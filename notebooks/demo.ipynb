{
 "cells": [
  {
   "cell_type": "code",
   "execution_count": 1,
   "metadata": {},
   "outputs": [],
   "source": [
    "import pandas as pd\n",
    "import sys, os\n",
    "sys.path.append('..')\n",
    "\n",
    "from src.utils import load_config_file, load_logger\n"
   ]
  },
  {
   "attachments": {},
   "cell_type": "markdown",
   "metadata": {},
   "source": [
    "## 1. Some example to use it in for morpho-synthax annotation and pos tagging"
   ]
  },
  {
   "attachments": {},
   "cell_type": "markdown",
   "metadata": {},
   "source": [
    "### 1.1 Use it with spacy models\n",
    "\n",
    "model_name, correspond au nom des modèles dans spacy : \n",
    "- \"spacy_core_web_sm\", \"spacy_core_web_md\", \"spacy_core_web_lg\", \"spacy_core_web_trf\"\n",
    "\n"
   ]
  },
  {
   "cell_type": "code",
   "execution_count": 5,
   "metadata": {},
   "outputs": [],
   "source": [
    "#load the pipeline object\n",
    "from src.pipeline_spacy import SpacyNlpPipeline\n",
    "spacy_pipeline = SpacyNlpPipeline(model_name='fr_dep_news_trf', use_gpu = True)\n"
   ]
  },
  {
   "cell_type": "code",
   "execution_count": null,
   "metadata": {},
   "outputs": [],
   "source": [
    "# apply it to a simple example of text and get the structure results\n",
    "text = \" je suis un exemple de text très simple\"\n",
    "result = spacy_pipeline.nlp(text)\n",
    "result"
   ]
  },
  {
   "attachments": {},
   "cell_type": "markdown",
   "metadata": {},
   "source": [
    "### 1.2 use it with stanza\n"
   ]
  },
  {
   "cell_type": "code",
   "execution_count": 3,
   "metadata": {},
   "outputs": [
    {
     "name": "stderr",
     "output_type": "stream",
     "text": [
      "2023-05-12 14:39:08 INFO: Checking for updates to resources.json in case models have been updated.  Note: this behavior can be turned off with download_method=None or download_method=DownloadMethod.REUSE_RESOURCES\n",
      "Downloading https://raw.githubusercontent.com/stanfordnlp/stanza-resources/main/resources_1.5.0.json: 216kB [00:00, 7.71MB/s]                    \n",
      "2023-05-12 14:39:09 INFO: Loading these models for language: fr (French):\n",
      "=======================\n",
      "| Processor | Package |\n",
      "-----------------------\n",
      "| tokenize  | gsd     |\n",
      "| mwt       | gsd     |\n",
      "| pos       | gsd     |\n",
      "| lemma     | gsd     |\n",
      "=======================\n",
      "\n",
      "2023-05-12 14:39:10 INFO: Using device: cuda\n",
      "2023-05-12 14:39:10 INFO: Loading: tokenize\n",
      "2023-05-12 14:39:11 INFO: Loading: mwt\n",
      "2023-05-12 14:39:11 INFO: Loading: pos\n",
      "2023-05-12 14:39:12 INFO: Loading: lemma\n",
      "2023-05-12 14:39:12 INFO: Done loading processors!\n"
     ]
    }
   ],
   "source": [
    "from src.pipeline_stanza import StanzaNlpPipeline\n",
    "stanza_pipeline = StanzaNlpPipeline(lang = \"fr\",stop_word = ['*'], use_gpu=True)"
   ]
  },
  {
   "cell_type": "code",
   "execution_count": 4,
   "metadata": {},
   "outputs": [
    {
     "data": {
      "text/plain": [
       "{'token': ['je', 'suis', 'un', 'exemple', 'de', 'text', 'très', 'simple'],\n",
       " 'lemma': ['il', 'être', 'un', 'exemple', 'de', 'text', 'très', 'simple'],\n",
       " 'pos': [('je', 'PRON'),\n",
       "  ('suis', 'AUX'),\n",
       "  ('un', 'DET'),\n",
       "  ('exemple', 'NOUN'),\n",
       "  ('de', 'ADP'),\n",
       "  ('text', 'NOUN'),\n",
       "  ('très', 'ADV'),\n",
       "  ('simple', 'ADJ')],\n",
       " 'xpos': [('je', None),\n",
       "  ('suis', None),\n",
       "  ('un', None),\n",
       "  ('exemple', None),\n",
       "  ('de', None),\n",
       "  ('text', None),\n",
       "  ('très', None),\n",
       "  ('simple', None)],\n",
       " 'morph': [('je', 'PRON', 'Number=Sing|Person=1|PronType=Prs'),\n",
       "  ('suis', 'AUX', 'Mood=Ind|Number=Sing|Person=1|Tense=Pres|VerbForm=Fin'),\n",
       "  ('un', 'DET', 'Definite=Ind|Gender=Masc|Number=Sing|PronType=Art'),\n",
       "  ('exemple', 'NOUN', 'Gender=Masc|Number=Sing'),\n",
       "  False,\n",
       "  ('text', 'NOUN', 'Gender=Masc|Number=Sing'),\n",
       "  False,\n",
       "  ('simple', 'ADJ', 'Gender=Masc|Number=Sing')],\n",
       " 'doc': [\n",
       "   [\n",
       "     {\n",
       "       \"id\": 1,\n",
       "       \"text\": \"je\",\n",
       "       \"lemma\": \"il\",\n",
       "       \"upos\": \"PRON\",\n",
       "       \"feats\": \"Number=Sing|Person=1|PronType=Prs\",\n",
       "       \"start_char\": 0,\n",
       "       \"end_char\": 2\n",
       "     },\n",
       "     {\n",
       "       \"id\": 2,\n",
       "       \"text\": \"suis\",\n",
       "       \"lemma\": \"être\",\n",
       "       \"upos\": \"AUX\",\n",
       "       \"feats\": \"Mood=Ind|Number=Sing|Person=1|Tense=Pres|VerbForm=Fin\",\n",
       "       \"start_char\": 3,\n",
       "       \"end_char\": 7\n",
       "     },\n",
       "     {\n",
       "       \"id\": 3,\n",
       "       \"text\": \"un\",\n",
       "       \"lemma\": \"un\",\n",
       "       \"upos\": \"DET\",\n",
       "       \"feats\": \"Definite=Ind|Gender=Masc|Number=Sing|PronType=Art\",\n",
       "       \"start_char\": 8,\n",
       "       \"end_char\": 10\n",
       "     },\n",
       "     {\n",
       "       \"id\": 4,\n",
       "       \"text\": \"exemple\",\n",
       "       \"lemma\": \"exemple\",\n",
       "       \"upos\": \"NOUN\",\n",
       "       \"feats\": \"Gender=Masc|Number=Sing\",\n",
       "       \"start_char\": 11,\n",
       "       \"end_char\": 18\n",
       "     },\n",
       "     {\n",
       "       \"id\": 5,\n",
       "       \"text\": \"de\",\n",
       "       \"lemma\": \"de\",\n",
       "       \"upos\": \"ADP\",\n",
       "       \"start_char\": 19,\n",
       "       \"end_char\": 21\n",
       "     },\n",
       "     {\n",
       "       \"id\": 6,\n",
       "       \"text\": \"text\",\n",
       "       \"lemma\": \"text\",\n",
       "       \"upos\": \"NOUN\",\n",
       "       \"feats\": \"Gender=Masc|Number=Sing\",\n",
       "       \"start_char\": 22,\n",
       "       \"end_char\": 26\n",
       "     },\n",
       "     {\n",
       "       \"id\": 7,\n",
       "       \"text\": \"très\",\n",
       "       \"lemma\": \"très\",\n",
       "       \"upos\": \"ADV\",\n",
       "       \"start_char\": 27,\n",
       "       \"end_char\": 31\n",
       "     },\n",
       "     {\n",
       "       \"id\": 8,\n",
       "       \"text\": \"simple\",\n",
       "       \"lemma\": \"simple\",\n",
       "       \"upos\": \"ADJ\",\n",
       "       \"feats\": \"Gender=Masc|Number=Sing\",\n",
       "       \"start_char\": 32,\n",
       "       \"end_char\": 38\n",
       "     }\n",
       "   ]\n",
       " ]}"
      ]
     },
     "execution_count": 4,
     "metadata": {},
     "output_type": "execute_result"
    }
   ],
   "source": [
    "text = \" je suis un exemple de text très simple\"\n",
    "result = stanza_pipeline.nlp(text)\n",
    "result"
   ]
  },
  {
   "attachments": {},
   "cell_type": "markdown",
   "metadata": {},
   "source": [
    "### 1.3 Use it with stanza CoreNLP\n",
    "\n",
    "Attention, il faut avoir lancé le serveur CoreNLP avant d'utiliser cette fonction (cf. README.md)"
   ]
  },
  {
   "cell_type": "code",
   "execution_count": 3,
   "metadata": {},
   "outputs": [],
   "source": [
    "from src.pipeline_stanza_corenlp import StanzaCoreNlpPipeline\n",
    "# corenlp_pipeline = StanzaCoreNlpPipeline(lang = \"fr\",stop_word = ['*'])\n"
   ]
  },
  {
   "attachments": {},
   "cell_type": "markdown",
   "metadata": {},
   "source": [
    "### 1.4 Use it with transformers\n",
    "\n",
    "This function make easy to use any model from hugging face hub.\n",
    "\n"
   ]
  },
  {
   "cell_type": "code",
   "execution_count": 5,
   "metadata": {},
   "outputs": [
    {
     "name": "stderr",
     "output_type": "stream",
     "text": [
      "/home/robin/env/nlp_pipeline/lib/python3.9/site-packages/transformers/pipelines/token_classification.py:168: UserWarning: `grouped_entities` is deprecated and will be removed in version v5.0.0, defaulted to `aggregation_strategy=\"simple\"` instead.\n",
      "  warnings.warn(\n",
      "Asking to truncate to max_length but no maximum length is provided and the model has no predefined maximum length. Default to no truncation.\n"
     ]
    }
   ],
   "source": [
    "from src.pipeline_transformers import TransformersNlpPipeline\n",
    "transformers_pipeline = TransformersNlpPipeline(model_name = 'gilf/french-camembert-postag-model', stop_word = ['*'], use_gpu=False)"
   ]
  },
  {
   "cell_type": "code",
   "execution_count": 6,
   "metadata": {},
   "outputs": [
    {
     "data": {
      "text/plain": [
       "{'token': ['je', 'suis', 'un', 'exemple', 'de', 'text', 'très', 'simple'],\n",
       " 'lemma': ['je', 'être', 'un', 'exemple', 'de', 'text', 'très', 'simple'],\n",
       " 'pos': [('je', 'PRON'),\n",
       "  ('suis', 'VERB'),\n",
       "  ('un', 'DET'),\n",
       "  ('exemple', 'NOUN'),\n",
       "  ('de', 'ADP'),\n",
       "  ('text', 'NOUN'),\n",
       "  ('très', 'ADJ'),\n",
       "  ('simple', 'ADJ')],\n",
       " 'xpos': ['CLS', 'V', 'DET', 'NC', 'P', 'NC', 'ADV', 'ADJ'],\n",
       " 'morph': [('je', 'PRON', False),\n",
       "  ('suis', 'VERB', False),\n",
       "  ('un', 'DET', False),\n",
       "  ('exemple', 'NOUN', False),\n",
       "  ('de', 'ADP', False),\n",
       "  ('text', 'NOUN', False),\n",
       "  ('très', 'ADJ', False),\n",
       "  ('simple', 'ADJ', False)]}"
      ]
     },
     "execution_count": 6,
     "metadata": {},
     "output_type": "execute_result"
    }
   ],
   "source": [
    "text = \" je suis un exemple de text très simple\"\n",
    "result = transformers_pipeline.nlp(text)\n",
    "result"
   ]
  },
  {
   "attachments": {},
   "cell_type": "markdown",
   "metadata": {},
   "source": [
    "## 2. Train embeddings on your data"
   ]
  },
  {
   "cell_type": "code",
   "execution_count": 2,
   "metadata": {},
   "outputs": [],
   "source": [
    "from src.pipeline_embeddings import BuildEmbeddings\n",
    "\n",
    "config = load_config_file(\"../config.yaml\")\n",
    "builder = BuildEmbeddings(config=config)\n"
   ]
  },
  {
   "cell_type": "code",
   "execution_count": 3,
   "metadata": {},
   "outputs": [
    {
     "name": "stderr",
     "output_type": "stream",
     "text": [
      "fail to save the config file because of [Errno 2] No such file or directory: '/home/robin/Code_repo/nlp_pipeline/notebooks/config.yaml'\n"
     ]
    },
    {
     "name": "stdout",
     "output_type": "stream",
     "text": [
      "[('de', -0.023671666160225868), ('text', -0.05234673619270325)]\n"
     ]
    }
   ],
   "source": [
    "test = [['exemple', 'de', 'text', 'a'],['exemple', 'de', 'text', 'b'],['exemple', 'de', 'text', 'c']]\n",
    "\n",
    "builder.train_and_save(corpus = test, method='word2vec',model_name = 'test')\n",
    "model,_,_ = builder.load_model(model_name='test',method='word2vec')\n",
    "\n",
    "print(model.wv.most_similar('exemple'))"
   ]
  },
  {
   "cell_type": "code",
   "execution_count": null,
   "metadata": {},
   "outputs": [],
   "source": []
  }
 ],
 "metadata": {
  "kernelspec": {
   "display_name": "nlp_pipeline",
   "language": "python",
   "name": "python3"
  },
  "language_info": {
   "codemirror_mode": {
    "name": "ipython",
    "version": 3
   },
   "file_extension": ".py",
   "mimetype": "text/x-python",
   "name": "python",
   "nbconvert_exporter": "python",
   "pygments_lexer": "ipython3",
   "version": "3.9.13"
  },
  "orig_nbformat": 4
 },
 "nbformat": 4,
 "nbformat_minor": 2
}
